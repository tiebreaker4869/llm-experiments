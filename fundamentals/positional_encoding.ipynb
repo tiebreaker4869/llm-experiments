{
 "cells": [
  {
   "cell_type": "code",
   "execution_count": 2,
   "id": "0f740fb8",
   "metadata": {},
   "outputs": [],
   "source": [
    "import torch\n",
    "from typing import Tuple"
   ]
  },
  {
   "cell_type": "markdown",
   "id": "14ab2591",
   "metadata": {},
   "source": [
    "# Positional Encoding"
   ]
  },
  {
   "cell_type": "markdown",
   "id": "1b8ceb8a",
   "metadata": {},
   "source": [
    "## 绝对位置编码\n",
    "\n",
    "为每个绝对位置分配一个位置编码向量，可以是手工设计的，也可以是可学习的。\n",
    "example:\n",
    "- Attention is all you need 中使用正余弦函数来计算位置编码\n",
    "- BERT 中使用可学习的绝对位置编码。"
   ]
  },
  {
   "cell_type": "markdown",
   "id": "bdbd7fe4",
   "metadata": {},
   "source": [
    "## 相对位置编码\n",
    "我们期望相对位置编码有这样的性质，对于查询 $q$ 和键 $k$, 位置编码函数 $f$, 希望 $<f(q, n), f(k, m)> = g(q, k, m - n)$, 即内积和相对距离直接相关。（因为内积是注意力计算中的核心运算）\n",
    "通过修改 attention 的计算过程可以实现这一点。"
   ]
  },
  {
   "cell_type": "markdown",
   "id": "e13b82f8",
   "metadata": {},
   "source": [
    "## 旋转位置编码\n",
    "\n",
    "用绝对位置编码的方式实现了相对位置编码，即对于每个绝对位置有一个位置编码向量，并且加入位置编码信息之后的向量内积直接和相对距离相关。\n",
    "\n",
    "下面给出 llama 的旋转位置编码实现，主要的逻辑是：\n",
    "- 预计算旋转矩阵 $M$, $M_{tj} = e^{i(freq[j]t)}$ shape: (s, d // 2)\n",
    "- 将输入在最后一个纬度两两成组看作复数 shape: (b, s, n, d) -> (b, s, n, d // 2)\n",
    "- 调整矩阵到合适广播的形状 shape: (1, s, 1, d // 2), 也就是第 i 个绝对位置的向量的第 j 个组的复数要和旋转矩阵 (i, j) 位置元素相乘\n",
    "- 旋转矩阵和输入的复数表示相乘（应用旋转位置编码）\n",
    "- 调整输出到实数表示形式并调整形状"
   ]
  },
  {
   "cell_type": "code",
   "execution_count": 3,
   "id": "8b288c61",
   "metadata": {},
   "outputs": [],
   "source": [
    "def precompute_freqs_cis(dim: int, end: int, theta: float = 10000.0):\n",
    "    \"\"\"\n",
    "    Precompute the frequency tensor for complex exponentials (cis) with given dimensions.\n",
    "\n",
    "    This function calculates a frequency tensor with complex exponentials using the given dimension 'dim'\n",
    "    and the end index 'end'. The 'theta' parameter scales the frequencies.\n",
    "    The returned tensor contains complex values in complex64 data type.\n",
    "\n",
    "    Args:\n",
    "        dim (int): Dimension of the frequency tensor.\n",
    "        end (int): End index for precomputing frequencies.\n",
    "        theta (float, optional): Scaling factor for frequency computation. Defaults to 10000.0.\n",
    "\n",
    "    Returns:\n",
    "        torch.Tensor: Precomputed frequency tensor with complex exponentials.\n",
    "\n",
    "    \n",
    "        \n",
    "\n",
    "    \"\"\"\n",
    "    freqs = 1.0 / (theta ** (torch.arange(0, dim, 2)[: (dim // 2)].float() / dim))\n",
    "    t = torch.arange(end, device=freqs.device)  # type: ignore\n",
    "    freqs = torch.outer(t, freqs).float()  # type: ignore\n",
    "    freqs_cis = torch.polar(torch.ones_like(freqs), freqs)  # complex64\n",
    "    return freqs_cis\n",
    "\n",
    "\n",
    "def reshape_for_broadcast(freqs_cis: torch.Tensor, x: torch.Tensor):\n",
    "    \"\"\"\n",
    "    Reshape frequency tensor for broadcasting it with another tensor.\n",
    "\n",
    "    This function reshapes the frequency tensor to have the same shape as the target tensor 'x'\n",
    "    for the purpose of broadcasting the frequency tensor during element-wise operations.\n",
    "\n",
    "    Args:\n",
    "        freqs_cis (torch.Tensor): Frequency tensor to be reshaped.\n",
    "        x (torch.Tensor): Target tensor for broadcasting compatibility.\n",
    "\n",
    "    Returns:\n",
    "        torch.Tensor: Reshaped frequency tensor.\n",
    "\n",
    "    Raises:\n",
    "        AssertionError: If the frequency tensor doesn't match the expected shape.\n",
    "        AssertionError: If the target tensor 'x' doesn't have the expected number of dimensions.\n",
    "    \"\"\"\n",
    "    ndim = x.ndim\n",
    "    assert 0 <= 1 < ndim\n",
    "    assert freqs_cis.shape == (x.shape[1], x.shape[-1])\n",
    "    shape = [d if i == 1 or i == ndim - 1 else 1 for i, d in enumerate(x.shape)]\n",
    "    return freqs_cis.view(*shape)\n",
    "\n",
    "\n",
    "def apply_rotary_emb(\n",
    "    xq: torch.Tensor,\n",
    "    xk: torch.Tensor,\n",
    "    freqs_cis: torch.Tensor,\n",
    ") -> Tuple[torch.Tensor, torch.Tensor]:\n",
    "    \"\"\"\n",
    "    Apply rotary embeddings to input tensors using the given frequency tensor.\n",
    "\n",
    "    This function applies rotary embeddings to the given query 'xq' and key 'xk' tensors using the provided\n",
    "    frequency tensor 'freqs_cis'. The input tensors are reshaped as complex numbers, and the frequency tensor\n",
    "    is reshaped for broadcasting compatibility. The resulting tensors contain rotary embeddings and are\n",
    "    returned as real tensors.\n",
    "\n",
    "    Args:\n",
    "        xq (torch.Tensor): Query tensor to apply rotary embeddings.\n",
    "        xk (torch.Tensor): Key tensor to apply rotary embeddings.\n",
    "        freqs_cis (torch.Tensor): Precomputed frequency tensor for complex exponentials.\n",
    "\n",
    "    Returns:\n",
    "        Tuple[torch.Tensor, torch.Tensor]: Tuple of modified query tensor and key tensor with rotary embeddings.\n",
    "\n",
    "        \n",
    "\n",
    "    \"\"\"\n",
    "    xq_ = torch.view_as_complex(xq.float().reshape(*xq.shape[:-1], -1, 2))\n",
    "    xk_ = torch.view_as_complex(xk.float().reshape(*xk.shape[:-1], -1, 2))\n",
    "    freqs_cis = reshape_for_broadcast(freqs_cis, xq_)\n",
    "    xq_out = torch.view_as_real(xq_ * freqs_cis).flatten(3)\n",
    "    xk_out = torch.view_as_real(xk_ * freqs_cis).flatten(3)\n",
    "    return xq_out.type_as(xq), xk_out.type_as(xk)"
   ]
  }
 ],
 "metadata": {
  "kernelspec": {
   "display_name": "llm-exp",
   "language": "python",
   "name": "python3"
  },
  "language_info": {
   "codemirror_mode": {
    "name": "ipython",
    "version": 3
   },
   "file_extension": ".py",
   "mimetype": "text/x-python",
   "name": "python",
   "nbconvert_exporter": "python",
   "pygments_lexer": "ipython3",
   "version": "3.10.17"
  }
 },
 "nbformat": 4,
 "nbformat_minor": 5
}
